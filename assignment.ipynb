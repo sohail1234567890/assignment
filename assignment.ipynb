{
 "cells": [
  {
   "cell_type": "code",
   "execution_count": 1,
   "id": "5e6e0090-d5ca-44c0-941e-bee3b85fdd5f",
   "metadata": {},
   "outputs": [],
   "source": [
    "##1"
   ]
  },
  {
   "cell_type": "code",
   "execution_count": 3,
   "id": "8cdb5e8b-7fc5-4c67-82ac-1539460ec965",
   "metadata": {},
   "outputs": [
    {
     "name": "stdout",
     "output_type": "stream",
     "text": [
      "Original list of tuples:\n",
      "[('Sachin Tendulkar', 34357), ('Ricky Ponting', 27483), ('Jack Kallis', 25534), ('Virat Kohli', 24936)]\n",
      "\n",
      "Sorting the List of Tuples:\n",
      "[('Virat Kohli', 24936), ('Jack Kallis', 25534), ('Ricky Ponting', 27483), ('Sachin Tendulkar', 34357)]\n"
     ]
    }
   ],
   "source": [
    "# Create a list of tuples named 'subject_marks', each tuple containing a subject and its corresponding marks\n",
    "subject_marks = [('Sachin Tendulkar', 34357), ('Ricky Ponting', 27483), ('Jack Kallis', 25534), ('Virat Kohli', 24936)]\n",
    "\n",
    "# Display the original list of tuples to the console\n",
    "print(\"Original list of tuples:\")\n",
    "print(subject_marks)\n",
    "\n",
    "# Sort the 'subject_marks' list of tuples based on the second element of each tuple (the marks),\n",
    "# using a lambda function as the sorting key to extract the second element\n",
    "subject_marks.sort(key=lambda x: x[1])\n",
    "\n",
    "# Display the sorted list of tuples to the console\n",
    "print(\"\\nSorting the List of Tuples:\")\n",
    "print(subject_marks) "
   ]
  },
  {
   "cell_type": "code",
   "execution_count": 4,
   "id": "bd9b9c3e-8647-4336-9d40-a96faea02fcf",
   "metadata": {},
   "outputs": [],
   "source": [
    "##2"
   ]
  },
  {
   "cell_type": "code",
   "execution_count": 5,
   "id": "301232b7-75cf-4442-b98a-55b33823d678",
   "metadata": {},
   "outputs": [
    {
     "name": "stdout",
     "output_type": "stream",
     "text": [
      "Original list of integers:\n",
      "[1, 2, 3, 4, 5, 6, 7, 8, 9, 10]\n",
      "\n",
      "Square every number of the said list:\n",
      "[1, 4, 9, 16, 25, 36, 49, 64, 81, 100]\n",
      "\n",
      "Cube every number of the said list:\n",
      "[1, 8, 27, 64, 125, 216, 343, 512, 729, 1000]\n"
     ]
    }
   ],
   "source": [
    "# Create a list of integers named 'nums'\n",
    "nums = [1, 2, 3, 4, 5, 6, 7, 8, 9, 10]\n",
    "\n",
    "# Display a message indicating that the following output will show the original list of integers\n",
    "print(\"Original list of integers:\")\n",
    "print(nums)\n",
    "\n",
    "# Display a message indicating that the following output will show each number in the list squared\n",
    "print(\"\\nSquare every number of the said list:\")\n",
    "\n",
    "# Use the 'map()' function with a lambda function to square each number in the 'nums' list\n",
    "# Create a new list 'square_nums' containing the squared values of the original list\n",
    "square_nums = list(map(lambda x: x ** 2, nums))\n",
    "print(square_nums)\n",
    "\n",
    "# Display a message indicating that the following output will show each number in the list cubed\n",
    "print(\"\\nCube every number of the said list:\")\n",
    "\n",
    "# Use the 'map()' function with a lambda function to cube each number in the 'nums' list\n",
    "# Create a new list 'cube_nums' containing the cubed values of the original list\n",
    "cube_nums = list(map(lambda x: x ** 3, nums))\n",
    "print(cube_nums) "
   ]
  },
  {
   "cell_type": "code",
   "execution_count": 6,
   "id": "9d569c59-d313-4f15-8a83-16454016e0a4",
   "metadata": {},
   "outputs": [],
   "source": [
    "##3"
   ]
  },
  {
   "cell_type": "code",
   "execution_count": 8,
   "id": "b873f9e5-a528-466c-b2ce-7cd9d847588e",
   "metadata": {},
   "outputs": [
    {
     "name": "stdout",
     "output_type": "stream",
     "text": [
      "Original list and tuple:\n",
      "[1, 2, 3, 4, 5, 6, 7, 8, 9, 10]\n",
      "(1, 2, 3, 4, 5, 6, 7, 8, 9, 10)\n",
      "\n",
      "List of strings:\n",
      "['1', '2', '3', '4', '5', '6', '7', '8', '9', '10']\n",
      "\n",
      "Tuple of strings:\n",
      "('1', '2', '3', '4', '5', '6', '7', '8', '9', '10')\n"
     ]
    }
   ],
   "source": [
    "# Create a list named 'nums_list' and a tuple named 'nums_tuple' with integer elements\n",
    "nums_list = [1, 2, 3, 4,5,6,7,8,9,10]\n",
    "nums_tuple = (1, 2, 3, 4,5,6,7,8,9,10)\n",
    "\n",
    "# Print the original list and tuple\n",
    "print(\"Original list and tuple:\")\n",
    "print(nums_list)\n",
    "print(nums_tuple)\n",
    "\n",
    "# Use the map function to convert each element in 'nums_list' to a string and create a new list\n",
    "result_list = list(map(str, nums_list))\n",
    "\n",
    "# Use the map function to convert each element in 'nums_tuple' to a string and create a new tuple\n",
    "result_tuple = tuple(map(str, nums_tuple))\n",
    "\n",
    "# Print a message indicating the operation to be performed\n",
    "print(\"\\nList of strings:\")\n",
    "\n",
    "# Print the result of the map operation for the list as a list of strings\n",
    "print(result_list)\n",
    "\n",
    "# Print a message indicating the operation to be performed\n",
    "print(\"\\nTuple of strings:\")\n",
    "\n",
    "# Print the result of the map operation for the tuple as a tuple of strings\n",
    "print(result_tuple)"
   ]
  },
  {
   "cell_type": "code",
   "execution_count": 9,
   "id": "1368844a-1490-4c83-9387-1de7fc4314c5",
   "metadata": {},
   "outputs": [],
   "source": [
    "##4"
   ]
  },
  {
   "cell_type": "code",
   "execution_count": 12,
   "id": "a0803c71-edf0-43f6-9991-9ece88fd3cdc",
   "metadata": {},
   "outputs": [
    {
     "name": "stdout",
     "output_type": "stream",
     "text": [
      "Original list numbers:\n",
      "[1, 2, 5, 6]\n",
      "\n",
      "Product of the said numbers (without using a for loop): 60\n"
     ]
    }
   ],
   "source": [
    "# Import the 'reduce' function from the 'functools' module.\n",
    "from functools import reduce\n",
    "\n",
    "# Define a list named 'nums' containing a series of integers.\n",
    "nums = [1,2,5,6]\n",
    "\n",
    "# Print a message along with the original list of numbers.\n",
    "print(\"Original list numbers:\")\n",
    "print(nums)\n",
    "\n",
    "# Calculate the product of the numbers in the list 'nums' using the 'reduce' function\n",
    "# and a lambda function that multiplies two numbers.\n",
    "nums_product = reduce((lambda x, y: x * y), nums)\n",
    "\n",
    "# Print the product of the numbers, obtained without using a for loop.\n",
    "print(\"\\nProduct of the said numbers (without using a for loop):\", nums_product)"
   ]
  },
  {
   "cell_type": "code",
   "execution_count": 13,
   "id": "4f0ed32d-b634-44a5-b357-0891752a3c7b",
   "metadata": {},
   "outputs": [],
   "source": [
    "##5"
   ]
  },
  {
   "cell_type": "code",
   "execution_count": 16,
   "id": "94a7532e-3823-4031-9dd5-e886945a3ee3",
   "metadata": {},
   "outputs": [
    {
     "name": "stdout",
     "output_type": "stream",
     "text": [
      "Numbers divisible by 2 are [2, 6, 60, 90, 120, 46]\n",
      "Numbers divisible by 3 are [3, 6, 9, 27, 60, 90, 120]\n"
     ]
    }
   ],
   "source": [
    "# Create a list of numbers.\n",
    "num_list = [2, 3, 6, 9, 27, 60, 90, 120, 55, 46]\n",
    "\n",
    "# Use an anonymous lambda function with the filter function to filter numbers in the list that are divisible by 2.\n",
    "result = list(filter(lambda x: (x % 2 == 0), num_list))\n",
    "\n",
    "# Print the numbers that are divisible by 3.\n",
    "print(\"Numbers divisible by 2 are\", result)\n",
    "\n",
    "# Use an anonymous lambda function with the filter function to filter numbers in the list that are divisible by 3.\n",
    "result = list(filter(lambda x: (x % 3 == 0), num_list))\n",
    "\n",
    "# Print the numbers that are divisible by 3.\n",
    "print(\"Numbers divisible by 3 are\", result)"
   ]
  },
  {
   "cell_type": "code",
   "execution_count": 17,
   "id": "7967b167-5204-4975-8b17-732062008a33",
   "metadata": {},
   "outputs": [],
   "source": [
    "##6"
   ]
  },
  {
   "cell_type": "code",
   "execution_count": null,
   "id": "b92d2a99-b1e3-4b10-8588-1cd07a9953bc",
   "metadata": {},
   "outputs": [],
   "source": []
  }
 ],
 "metadata": {
  "kernelspec": {
   "display_name": "Python 3 (ipykernel)",
   "language": "python",
   "name": "python3"
  },
  "language_info": {
   "codemirror_mode": {
    "name": "ipython",
    "version": 3
   },
   "file_extension": ".py",
   "mimetype": "text/x-python",
   "name": "python",
   "nbconvert_exporter": "python",
   "pygments_lexer": "ipython3",
   "version": "3.10.8"
  }
 },
 "nbformat": 4,
 "nbformat_minor": 5
}
