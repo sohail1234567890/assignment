{
 "cells": [
  {
   "cell_type": "code",
   "execution_count": 17,
   "id": "1ece2ee4-2d97-4496-b77d-64b8bfa8de16",
   "metadata": {},
   "outputs": [
    {
     "name": "stdin",
     "output_type": "stream",
     "text": [
      "Enter the percentage of the student:  56\n"
     ]
    },
    {
     "name": "stdout",
     "output_type": "stream",
     "text": [
      "Grade D\n"
     ]
    }
   ],
   "source": [
    "##1\n",
    "#Program to print the grade of the student\n",
    "n = float(input('Enter the percentage of the student: '))\n",
    "\n",
    "if(n > 90):\n",
    "    print(\"Grade A\")\n",
    "elif(n > 80 and n<=90):\n",
    "    print(\"Grade B\")\n",
    "elif(n > 60 and n<=80):\n",
    "    print(\"Grade C\")\n",
    "else:\n",
    "    print(\"Grade D\")"
   ]
  },
  {
   "cell_type": "code",
   "execution_count": 25,
   "id": "7f8aa65a-1d08-4538-882a-7700d3aa3fcf",
   "metadata": {},
   "outputs": [
    {
     "name": "stdin",
     "output_type": "stream",
     "text": [
      "Enter the cost price of the bike:  45000\n"
     ]
    },
    {
     "name": "stdout",
     "output_type": "stream",
     "text": [
      "2250.0 is the road tax to be paid.\n"
     ]
    }
   ],
   "source": [
    "##2\n",
    "cp = float(input(\"Enter the cost price of the bike: \"))\n",
    "\n",
    "if cp > 100000:\n",
    "    tax=15/100\n",
    "\n",
    "elif cp > 50000 and cp <= 100000:\n",
    "    tax=10/100\n",
    "\n",
    "elif cp <= 50000:\n",
    "    tax=5/100\n",
    "\n",
    "road_tax = cp*tax\n",
    "\n",
    "print(road_tax, \"is the road tax to be paid.\")"
   ]
  },
  {
   "cell_type": "code",
   "execution_count": 26,
   "id": "f58a3436-4386-497f-ac22-c3b403f5a6a8",
   "metadata": {},
   "outputs": [
    {
     "ename": "IndentationError",
     "evalue": "unexpected indent (3831739403.py, line 5)",
     "output_type": "error",
     "traceback": [
      "\u001b[0;36m  Cell \u001b[0;32mIn[26], line 5\u001b[0;36m\u001b[0m\n\u001b[0;31m    graph = defaultdict(list)\u001b[0m\n\u001b[0m    ^\u001b[0m\n\u001b[0;31mIndentationError\u001b[0m\u001b[0;31m:\u001b[0m unexpected indent\n"
     ]
    }
   ],
   "source": [
    "##4"
   ]
  },
  {
   "cell_type": "code",
   "execution_count": null,
   "id": "e1734529-61f7-4424-ad76-d87da629147f",
   "metadata": {},
   "outputs": [],
   "source": []
  }
 ],
 "metadata": {
  "kernelspec": {
   "display_name": "Python 3 (ipykernel)",
   "language": "python",
   "name": "python3"
  },
  "language_info": {
   "codemirror_mode": {
    "name": "ipython",
    "version": 3
   },
   "file_extension": ".py",
   "mimetype": "text/x-python",
   "name": "python",
   "nbconvert_exporter": "python",
   "pygments_lexer": "ipython3",
   "version": "3.10.8"
  }
 },
 "nbformat": 4,
 "nbformat_minor": 5
}
