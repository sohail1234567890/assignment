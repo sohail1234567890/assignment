{
 "cells": [
  {
   "cell_type": "code",
   "execution_count": 1,
   "id": "9e508635-33bb-4581-8a1e-d632ace5f94e",
   "metadata": {},
   "outputs": [],
   "source": [
    "##1 Guido van Rossum"
   ]
  },
  {
   "cell_type": "code",
   "execution_count": 2,
   "id": "952df341-8d8d-4531-a1d5-2172e5fdb811",
   "metadata": {},
   "outputs": [],
   "source": [
    "##2 object-oriented, structured, and functional programming."
   ]
  },
  {
   "cell_type": "code",
   "execution_count": null,
   "id": "4a9453ab-a00f-432e-a0dd-8b702eb3b95c",
   "metadata": {},
   "outputs": [],
   "source": [
    "##3 yes"
   ]
  },
  {
   "cell_type": "code",
   "execution_count": 3,
   "id": "9528d8de-308d-4ff8-bb91-e3a7d1b87560",
   "metadata": {},
   "outputs": [],
   "source": [
    "##4 .py"
   ]
  },
  {
   "cell_type": "code",
   "execution_count": 4,
   "id": "30e313e7-3c06-4d8d-930d-f16824d11b3f",
   "metadata": {},
   "outputs": [],
   "source": [
    "##5 interpreted"
   ]
  },
  {
   "cell_type": "code",
   "execution_count": 5,
   "id": "8e4f1f35-2a91-4e14-a21f-08a3593cc6f1",
   "metadata": {},
   "outputs": [],
   "source": [
    "##6 a module, a function body, and a class definition"
   ]
  },
  {
   "cell_type": "code",
   "execution_count": 6,
   "id": "891c4e31-ebfc-4f0b-b4b7-6d889a686c01",
   "metadata": {},
   "outputs": [],
   "source": [
    "##7 hash symbol(#)"
   ]
  },
  {
   "cell_type": "code",
   "execution_count": 9,
   "id": "b4cfec6f-0300-4dbb-ae93-85d7bdd74e5e",
   "metadata": {},
   "outputs": [],
   "source": [
    "##8\n",
    "python --version"
   ]
  },
  {
   "cell_type": "code",
   "execution_count": 10,
   "id": "726f7075-15b1-4052-aa31-f13e8dd323e2",
   "metadata": {},
   "outputs": [],
   "source": [
    "##10 \"Preferred Installer Program” "
   ]
  },
  {
   "cell_type": "code",
   "execution_count": null,
   "id": "4e2dfbda-8c3e-49b7-a447-45f0521f0a20",
   "metadata": {},
   "outputs": [],
   "source": [
    "##11"
   ]
  }
 ],
 "metadata": {
  "kernelspec": {
   "display_name": "Python 3 (ipykernel)",
   "language": "python",
   "name": "python3"
  },
  "language_info": {
   "codemirror_mode": {
    "name": "ipython",
    "version": 3
   },
   "file_extension": ".py",
   "mimetype": "text/x-python",
   "name": "python",
   "nbconvert_exporter": "python",
   "pygments_lexer": "ipython3",
   "version": "3.10.8"
  }
 },
 "nbformat": 4,
 "nbformat_minor": 5
}
