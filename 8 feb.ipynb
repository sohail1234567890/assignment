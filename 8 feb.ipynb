{
 "cells": [
  {
   "cell_type": "code",
   "execution_count": 12,
   "id": "e1beca1d-92c3-4e73-8412-a1b30c3eda05",
   "metadata": {},
   "outputs": [
    {
     "name": "stdout",
     "output_type": "stream",
     "text": [
      "Triangle has 3 sides\n",
      "I have 4 sides\n",
      "Pentagon has 5 sides\n",
      "Hexagon has 6 sides\n"
     ]
    }
   ],
   "source": [
    "##1  Abstraction is one of the important principles of object-oriented programming. It refers to a programming approach by which only the relevant data about an object is exposed, hiding all the other details.\n",
    "from abc import ABC  \n",
    "  \n",
    "class Polygon(ABC):   \n",
    "  \n",
    "   # abstract method   \n",
    "   def sides(self):   \n",
    "      pass  \n",
    "  \n",
    "class Triangle(Polygon):   \n",
    "  \n",
    "     \n",
    "   def sides(self):   \n",
    "      print(\"Triangle has 3 sides\")   \n",
    "  \n",
    "class Pentagon(Polygon):   \n",
    "  \n",
    "     \n",
    "   def sides(self):   \n",
    "      print(\"Pentagon has 5 sides\")   \n",
    "  \n",
    "class Hexagon(Polygon):   \n",
    "  \n",
    "   def sides(self):   \n",
    "      print(\"Hexagon has 6 sides\")   \n",
    "  \n",
    "class square(Polygon):   \n",
    "  \n",
    "   def sides(self):   \n",
    "      print(\"I have 4 sides\")   \n",
    "  \n",
    "# Driver code   \n",
    "t = Triangle()   \n",
    "t.sides()   \n",
    "  \n",
    "s = square()   \n",
    "s.sides()   \n",
    "  \n",
    "p = Pentagon()   \n",
    "p.sides()   \n",
    "  \n",
    "k = Hexagon()   \n",
    "k.sides()   "
   ]
  },
  {
   "cell_type": "code",
   "execution_count": 13,
   "id": "0fc7a019-4924-40c7-b613-9363e461ce0b",
   "metadata": {},
   "outputs": [
    {
     "name": "stdout",
     "output_type": "stream",
     "text": [
      "The mileage is 30kmph\n",
      "The mileage is 27kmph \n",
      "The mileage is 25kmph \n",
      "The mileage is 24kmph \n"
     ]
    }
   ],
   "source": [
    "##2 abstraction= Abstraction is a process of hiding unnecessary data and showing only relevant data. Out of an ocean of data\n",
    "## encapsulatio =Encapsulation is binding the data members with member variables. This will avoid the direct access of variables\n",
    "# example of abstraction\n",
    "from abc import ABC, abstractmethod   \n",
    "class Car(ABC):   \n",
    "    def mileage(self):   \n",
    "        pass  \n",
    "  \n",
    "class Tesla(Car):   \n",
    "    def mileage(self):   \n",
    "        print(\"The mileage is 30kmph\")   \n",
    "class Suzuki(Car):   \n",
    "    def mileage(self):   \n",
    "        print(\"The mileage is 25kmph \")   \n",
    "class Duster(Car):   \n",
    "     def mileage(self):   \n",
    "          print(\"The mileage is 24kmph \")   \n",
    "  \n",
    "class Renault(Car):   \n",
    "    def mileage(self):   \n",
    "            print(\"The mileage is 27kmph \")   \n",
    "          \n",
    "# Driver code   \n",
    "t= Tesla ()   \n",
    "t.mileage()   \n",
    "  \n",
    "r = Renault()   \n",
    "r.mileage()   \n",
    "  \n",
    "s = Suzuki()   \n",
    "s.mileage()   \n",
    "d = Duster()   \n",
    "d.mileage()  "
   ]
  },
  {
   "cell_type": "code",
   "execution_count": 15,
   "id": "a7252452-c909-455c-991a-7688a9fcd88b",
   "metadata": {},
   "outputs": [
    {
     "name": "stdout",
     "output_type": "stream",
     "text": [
      "We will call the protected member of base class:  78\n",
      "we will call the modified protected member outside the class:  433\n",
      "Access the protected member of obj_1:  433\n",
      "Access the protected member of obj_2:  78\n"
     ]
    }
   ],
   "source": [
    "# example of encapsulation\n",
    "class Base1:  \n",
    "    def __init__(self):  \n",
    "  \n",
    "        # the protected member  \n",
    "        self._p = 78  \n",
    "  \n",
    "# here, we will create the derived class  \n",
    "class Derived1(Base1):  \n",
    "    def __init__(self):  \n",
    "  \n",
    "# now, we will call the constructor of Base class  \n",
    "        Base1.__init__(self)  \n",
    "        print (\"We will call the protected member of base class: \",  \n",
    "            self._p)  \n",
    "  \n",
    "# Now, we will be modifing the protected variable:  \n",
    "        self._p = 433  \n",
    "        print (\"we will call the modified protected member outside the class: \",  \n",
    "            self._p)  \n",
    "  \n",
    "  \n",
    "obj_1 = Derived1()  \n",
    "  \n",
    "obj_2 = Base1()  \n",
    "  \n",
    "# here, we will call the protected member  \n",
    "# this can be accessed but it should not be done because of convention  \n",
    "print (\"Access the protected member of obj_1: \", obj_1._p)  \n",
    "  \n",
    "# here, we will access the protected variable outside  \n",
    "print (\"Access the protected member of obj_2: \", obj_2._p)  "
   ]
  },
  {
   "cell_type": "code",
   "execution_count": 16,
   "id": "92b0a502-cd44-4f91-8790-e6d04c35a7c0",
   "metadata": {},
   "outputs": [],
   "source": [
    "##3 provides the infrastructure for defining the base of Abstract Base Classes(ABC)"
   ]
  },
  {
   "cell_type": "code",
   "execution_count": null,
   "id": "eafe5422-a4b1-4b5c-83f5-0bf302831fc6",
   "metadata": {},
   "outputs": [],
   "source": []
  }
 ],
 "metadata": {
  "kernelspec": {
   "display_name": "Python 3 (ipykernel)",
   "language": "python",
   "name": "python3"
  },
  "language_info": {
   "codemirror_mode": {
    "name": "ipython",
    "version": 3
   },
   "file_extension": ".py",
   "mimetype": "text/x-python",
   "name": "python",
   "nbconvert_exporter": "python",
   "pygments_lexer": "ipython3",
   "version": "3.10.8"
  }
 },
 "nbformat": 4,
 "nbformat_minor": 5
}
