{
 "cells": [
  {
   "cell_type": "code",
   "execution_count": 30,
   "id": "1ece2ee4-2d97-4496-b77d-64b8bfa8de16",
   "metadata": {},
   "outputs": [
    {
     "name": "stdout",
     "output_type": "stream",
     "text": [
      "List [1, 2, 3, 4, [44, 55, 66, True], False, (34, 56, 78, 89, 34), {1, 2, 3}, {1: 34, 'key2': [55, 67, 78, 89], 4: (45, 22, 61, 34)}, [56, 'data science'], 'Machine Learning']\n",
      "Flat List [1, 2, 3, 4, 44, 55, 66, True, False, (34, 56, 78, 89, 34), {1, 2, 3}, {1: 34, 'key2': [55, 67, 78, 89], 4: (45, 22, 61, 34)}, 56, 'data science', 'Machine Learning']\n"
     ]
    }
   ],
   "source": [
    "##1\n",
    "def flat(lis):\n",
    "\tflatList = []\n",
    "\t# Iterate with outer list\n",
    "\tfor element in lis:\n",
    "\t\tif type(element) is list:\n",
    "\t\t\t# Check if type is list than iterate through the sublist\n",
    "\t\t\tfor item in element:\n",
    "\t\t\t\tflatList.append(item)\n",
    "\t\telse:\n",
    "\t\t\tflatList.append(element)\n",
    "\treturn flatList\n",
    "\n",
    "\n",
    "lis = [1,2,3,4, [44,55,66, True], False, (34,56,78,89,34), {1,2,3,3,2,1}, {1:34, \"key2\": [55, 67, 78, 89], 4: (45,\n",
    "22, 61, 34)}, [56, 'data science'], 'Machine Learning']\n",
    "print('List', lis)\n",
    "print('Flat List', flat(lis))\n"
   ]
  },
  {
   "cell_type": "code",
   "execution_count": 31,
   "id": "7f8aa65a-1d08-4538-882a-7700d3aa3fcf",
   "metadata": {},
   "outputs": [
    {
     "name": "stdout",
     "output_type": "stream",
     "text": [
      "0n0n0baca\n"
     ]
    }
   ],
   "source": [
    "##2\n",
    "# Create an input field\n",
    "encrypt = \"banana\"\n",
    "\n",
    "# Create a dictionary to store keys\n",
    "# and values\n",
    "dict = {\"a\": \"0\", \"e\": \"1\", \n",
    "\t\t\"i\": \"2\", \"o\": \"2\",\n",
    "\t\t\"u\": \"3\"}\n",
    "\n",
    "# Reverse the string\n",
    "num = encrypt[::-1]\n",
    "\n",
    "# Replace vowels using loops\n",
    "for i in dict:\n",
    "\tnum = num.replace(i, dict[i])\n",
    "\n",
    "# f- strings which improves readability\n",
    "print(f\"{num}aca\")\n"
   ]
  },
  {
   "cell_type": "code",
   "execution_count": null,
   "id": "f58a3436-4386-497f-ac22-c3b403f5a6a8",
   "metadata": {},
   "outputs": [],
   "source": []
  },
  {
   "cell_type": "code",
   "execution_count": null,
   "id": "e1734529-61f7-4424-ad76-d87da629147f",
   "metadata": {},
   "outputs": [],
   "source": []
  }
 ],
 "metadata": {
  "kernelspec": {
   "display_name": "Python 3 (ipykernel)",
   "language": "python",
   "name": "python3"
  },
  "language_info": {
   "codemirror_mode": {
    "name": "ipython",
    "version": 3
   },
   "file_extension": ".py",
   "mimetype": "text/x-python",
   "name": "python",
   "nbconvert_exporter": "python",
   "pygments_lexer": "ipython3",
   "version": "3.10.8"
  }
 },
 "nbformat": 4,
 "nbformat_minor": 5
}
